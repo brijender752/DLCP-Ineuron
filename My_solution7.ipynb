{
 "cells": [
  {
   "cell_type": "markdown",
   "metadata": {},
   "source": [
    "#Write a Python program to check if all dictionaries in a list are empty or not."
   ]
  },
  {
   "cell_type": "code",
   "execution_count": 1,
   "metadata": {},
   "outputs": [
    {
     "name": "stdout",
     "output_type": "stream",
     "text": [
      "True\n",
      "False\n"
     ]
    }
   ],
   "source": [
    "list1 = [{},{},{}]\n",
    "list2 = [{123,2345},{},{}]\n",
    "print(all(not d for d in list1))\n",
    "print(all(not d for d in list2))"
   ]
  },
  {
   "cell_type": "markdown",
   "metadata": {},
   "source": [
    "#Write a Python program to remove duplicates from a list of lists."
   ]
  },
  {
   "cell_type": "code",
   "execution_count": 4,
   "metadata": {},
   "outputs": [
    {
     "name": "stdout",
     "output_type": "stream",
     "text": [
      "Original List [[110, 120], [240], [330, 456, 425], [310, 220], [133], [240]]\n",
      "The list after duplicate removal : [(240,), (330, 425, 456), (110, 120), (133,), (220, 310)]\n"
     ]
    }
   ],
   "source": [
    "\n",
    "num = [[110, 120], [240], [330, 456, 425], [310, 220], [133], [240]]\n",
    "print(\"Original List\", num)\n",
    "res = list(set(tuple(sorted(sub)) for sub in num))\n",
    "print(\"The list after duplicate removal : \" + str(res))\n"
   ]
  },
  {
   "cell_type": "markdown",
   "metadata": {},
   "source": [
    "#Write a Python program to extend a list without append"
   ]
  },
  {
   "cell_type": "code",
   "execution_count": 5,
   "metadata": {},
   "outputs": [
    {
     "name": "stdout",
     "output_type": "stream",
     "text": [
      "[103, 320, 430, 403, 503, 603]\n"
     ]
    }
   ],
   "source": [
    "x = [103, 320, 430]\n",
    "y = [403, 503, 603]\n",
    "x=x+y\n",
    "print(x)"
   ]
  },
  {
   "cell_type": "markdown",
   "metadata": {},
   "source": [
    "#Write a Python program to find the list in a list of lists whose sum of elements is th\n",
    "e highest\""
   ]
  },
  {
   "cell_type": "code",
   "execution_count": 6,
   "metadata": {},
   "outputs": [
    {
     "name": "stdout",
     "output_type": "stream",
     "text": [
      "[10, 11, 12]\n"
     ]
    }
   ],
   "source": [
    "def maximumSum(list1):\n",
    "    return (max(list1, key = sum)) \n",
    "num = [[1,2,3], [4,5,6], [10,11,12], [7,8,9]]\n",
    "print(maximumSum(num))"
   ]
  },
  {
   "cell_type": "markdown",
   "metadata": {},
   "source": [
    "#Write a Python program to access dictionary key’s element by index."
   ]
  },
  {
   "cell_type": "code",
   "execution_count": 8,
   "metadata": {},
   "outputs": [
    {
     "name": "stdout",
     "output_type": "stream",
     "text": [
      "stats\n",
      "math\n",
      "algorithm\n"
     ]
    }
   ],
   "source": [
    "num = {'stats': 80, 'math': 90, 'algorithm': 86}\n",
    "print(list(num)[0])\n",
    "print(list(num)[1])\n",
    "print(list(num)[2])"
   ]
  },
  {
   "cell_type": "markdown",
   "metadata": {},
   "source": [
    "#Write a Python program to iterate over two lists simultaneously"
   ]
  },
  {
   "cell_type": "code",
   "execution_count": 9,
   "metadata": {},
   "outputs": [
    {
     "name": "stdout",
     "output_type": "stream",
     "text": [
      "1 red\n",
      "2 while\n",
      "3 black\n"
     ]
    }
   ],
   "source": [
    "num = [1, 2, 3]\n",
    "color = ['red', 'while', 'black']\n",
    "for (a,b) in zip(num, color):\n",
    " print(a, b)\n"
   ]
  },
  {
   "cell_type": "markdown",
   "metadata": {},
   "source": [
    "#write a program to inser a string at the begining of every elements in a list\n"
   ]
  },
  {
   "cell_type": "code",
   "execution_count": 12,
   "metadata": {},
   "outputs": [
    {
     "name": "stdout",
     "output_type": "stream",
     "text": [
      "['customer100', 'customer123', 'customer345', 'customer567', 'customer789', 'customer890', 'customer98', 'customer876', 'customer543', 'customer678']\n"
     ]
    }
   ],
   "source": [
    "def prepend(list, str):\n",
    "    str += '{0}'\n",
    "    list = [str.format(i) for i in list]\n",
    "    return(list)\n",
    "\n",
    "a = [100,123,345,567,789,890,98,876,543,678]\n",
    "str ='customer'\n",
    "print(prepend(a, str))"
   ]
  },
  {
   "cell_type": "markdown",
   "metadata": {},
   "source": [
    "#write a program to take two lists and print if they have at least one common member"
   ]
  },
  {
   "cell_type": "code",
   "execution_count": 13,
   "metadata": {},
   "outputs": [
    {
     "name": "stdout",
     "output_type": "stream",
     "text": [
      "True\n",
      "False\n"
     ]
    }
   ],
   "source": [
    "def any_matches(nums, lsts):\n",
    "    for x in lsts:\n",
    "        if x in nums:\n",
    "            return True\n",
    "    return False  \n",
    "\n",
    "print(any_matches([121,222,332,432,125], [125,236,457,678,779]))\n",
    "print(any_matches([1,2,3,4,5], [6,7,8,9]))\n"
   ]
  },
  {
   "cell_type": "markdown",
   "metadata": {},
   "source": [
    " compute all permutations in a list"
   ]
  },
  {
   "cell_type": "code",
   "execution_count": 14,
   "metadata": {},
   "outputs": [
    {
     "name": "stdout",
     "output_type": "stream",
     "text": [
      "[(12, 22, 23), (12, 23, 22), (22, 12, 23), (22, 23, 12), (23, 12, 22), (23, 22, 12)]\n"
     ]
    }
   ],
   "source": [
    "import itertools\n",
    "print(list(itertools.permutations([12,22,23])))"
   ]
  },
  {
   "cell_type": "code",
   "execution_count": null,
   "metadata": {},
   "outputs": [],
   "source": []
  }
 ],
 "metadata": {
  "kernelspec": {
   "display_name": "Python 3",
   "language": "python",
   "name": "python3"
  },
  "language_info": {
   "codemirror_mode": {
    "name": "ipython",
    "version": 3
   },
   "file_extension": ".py",
   "mimetype": "text/x-python",
   "name": "python",
   "nbconvert_exporter": "python",
   "pygments_lexer": "ipython3",
   "version": "3.8.5"
  }
 },
 "nbformat": 4,
 "nbformat_minor": 4
}
