{
 "cells": [
  {
   "cell_type": "markdown",
   "metadata": {},
   "source": [
    ".1 Write a Python Program(with class concepts) to find the area of the triangle using the below\n",
    "formula.\n",
    "area = (s*(s-a)*(s-b)*(s-c)) ** 0.5\n"
   ]
  },
  {
   "cell_type": "code",
   "execution_count": 10,
   "metadata": {},
   "outputs": [
    {
     "name": "stdout",
     "output_type": "stream",
     "text": [
      "a=3\n",
      "b=4\n",
      "c=5\n",
      "area : 6.0\n"
     ]
    }
   ],
   "source": [
    "class parent:\n",
    "    def __init__(self,a,b,c):\n",
    "        self.a = float(a)\n",
    "        self.b = float(b)\n",
    "        self.c = float(c)\n",
    "\n",
    "class triangle(parent):\n",
    "    def __init__(self,a,b,c):\n",
    "        super().__init__(a,b,c)\n",
    "\n",
    "    def get_area(self):\n",
    "        s = (a + b + c) / 2\n",
    "        return (s*(s-a)*(s-b)*(s-c)) ** 0.5        \n",
    "\n",
    "a= int(input(\"a=\"))\n",
    "b= int(input(\"b=\"))\n",
    "c= int(input(\"c=\"))    \n",
    "t = triangle(a,b,c)\n",
    "print(\"area : {}\".format(t.get_area()))"
   ]
  },
  {
   "cell_type": "markdown",
   "metadata": {},
   "source": [
    "1.2 Write a function filter_long_words() that takes a list of words and an integer n and returns\n",
    "the list of words that are longer than n."
   ]
  },
  {
   "cell_type": "code",
   "execution_count": 11,
   "metadata": {},
   "outputs": [
    {
     "name": "stdout",
     "output_type": "stream",
     "text": [
      "Please input the list of words: manish,hello,hi,how\n",
      "Enter the number: 2\n",
      "['manish', 'hello', 'how']\n"
     ]
    }
   ],
   "source": [
    "def filter_long_words(lis,number):\n",
    "    l = []\n",
    "    for i in range(len(lis)):\n",
    "        if len(lis[i]) > number:\n",
    "            \n",
    "            l.append(lis[i])\n",
    "    return l\n",
    "\n",
    "words = input(\"Please input the list of words: \").split(\",\")\n",
    "num=int(input(\"Enter the number: \"))\n",
    "print(filter_long_words(words,num))"
   ]
  },
  {
   "cell_type": "markdown",
   "metadata": {},
   "source": [
    "2.1 Write a Python program using function concept that maps list of words into a list of integers\n",
    "representing the lengths of the corresponding words."
   ]
  },
  {
   "cell_type": "code",
   "execution_count": 13,
   "metadata": {},
   "outputs": [
    {
     "name": "stdout",
     "output_type": "stream",
     "text": [
      "Enter the list of words: manish,kushwaha,Ashish,kushwaha\n",
      "[6, 8, 6, 8]\n"
     ]
    }
   ],
   "source": [
    "def map_output(lis):\n",
    "    l=[]\n",
    "    for i in range(len(lis)):\n",
    "        c=len(lis[i])\n",
    "        l.append(c)\n",
    "    return l\n",
    "list1=input(\"Enter the list of words: \").split(\",\")\n",
    "print(map_output(list1))"
   ]
  },
  {
   "cell_type": "markdown",
   "metadata": {},
   "source": [
    "2.2 Write a Python function which takes a character (i.e. a string of length 1) and returns True if\n",
    "it is a vowel, False otherwise.\n"
   ]
  },
  {
   "cell_type": "code",
   "execution_count": 16,
   "metadata": {},
   "outputs": [
    {
     "name": "stdout",
     "output_type": "stream",
     "text": [
      "Enter a char: a\n"
     ]
    },
    {
     "data": {
      "text/plain": [
       "True"
      ]
     },
     "execution_count": 16,
     "metadata": {},
     "output_type": "execute_result"
    }
   ],
   "source": [
    "def isVowel(char):\n",
    "    if char == 'a' or 'e' or 'i' or 'o' or 'u' or 'A' or 'E' or 'I' or 'O' or 'U':\n",
    "        return True\n",
    "    else:\n",
    "        return False\n",
    "inputs=input(\"Enter a char: \") \n",
    "isVowel(inputs)"
   ]
  },
  {
   "cell_type": "code",
   "execution_count": null,
   "metadata": {},
   "outputs": [],
   "source": []
  }
 ],
 "metadata": {
  "kernelspec": {
   "display_name": "Python 3",
   "language": "python",
   "name": "python3"
  },
  "language_info": {
   "codemirror_mode": {
    "name": "ipython",
    "version": 3
   },
   "file_extension": ".py",
   "mimetype": "text/x-python",
   "name": "python",
   "nbconvert_exporter": "python",
   "pygments_lexer": "ipython3",
   "version": "3.8.5"
  }
 },
 "nbformat": 4,
 "nbformat_minor": 4
}
